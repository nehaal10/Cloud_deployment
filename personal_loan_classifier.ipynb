{
  "nbformat": 4,
  "nbformat_minor": 0,
  "metadata": {
    "colab": {
      "provenance": [],
      "mount_file_id": "1GEl2OGSWbYCDPTDSfQwJdWzWzJ-_LL_d",
      "authorship_tag": "ABX9TyM2xldDe9OgqDGf3C8xodID",
      "include_colab_link": true
    },
    "kernelspec": {
      "name": "python3",
      "display_name": "Python 3"
    },
    "language_info": {
      "name": "python"
    }
  },
  "cells": [
    {
      "cell_type": "markdown",
      "metadata": {
        "id": "view-in-github",
        "colab_type": "text"
      },
      "source": [
        "<a href=\"https://colab.research.google.com/github/nehaal10/Cloud_deployment/blob/main/personal_loan_classifier.ipynb\" target=\"_parent\"><img src=\"https://colab.research.google.com/assets/colab-badge.svg\" alt=\"Open In Colab\"/></a>"
      ]
    },
    {
      "cell_type": "code",
      "execution_count": null,
      "metadata": {
        "id": "U8xQ6NfGuyxF"
      },
      "outputs": [],
      "source": [
        "from imblearn.combine import SMOTEENN \n",
        "import pandas as pd\n",
        "import numpy as np\n",
        "import seaborn as sns\n",
        "import matplotlib.pyplot as plt\n",
        "from sklearn.model_selection import train_test_split\n",
        "from sklearn.linear_model import LogisticRegression\n",
        "from sklearn.preprocessing import MinMaxScaler\n",
        "from sklearn.metrics import accuracy_score\n",
        "from sklearn.metrics import roc_curve\n",
        "import pickle\n",
        "import joblib"
      ]
    },
    {
      "cell_type": "code",
      "source": [
        "df=pd.read_csv('/content/drive/MyDrive/project/Bank_Personal_Loan_Modelling.csv')\n",
        "df.drop(['ID','ZIP Code'],axis=1,inplace=True)"
      ],
      "metadata": {
        "id": "hfAxkuA5vPPX"
      },
      "execution_count": null,
      "outputs": []
    },
    {
      "cell_type": "code",
      "source": [
        "cols=list(df.columns)"
      ],
      "metadata": {
        "id": "-pVu58M1xmuk"
      },
      "execution_count": null,
      "outputs": []
    },
    {
      "cell_type": "code",
      "source": [
        "minm=MinMaxScaler()\n",
        "df[cols]=minm.fit_transform(df[cols])"
      ],
      "metadata": {
        "id": "z4oQVYcfxArj"
      },
      "execution_count": null,
      "outputs": []
    },
    {
      "cell_type": "code",
      "source": [
        "from sklearn.pipeline import make_pipeline\n",
        "\n",
        "pipelines = {\n",
        "    'lg':make_pipeline(LogisticRegression(random_state=1234))\n",
        "}"
      ],
      "metadata": {
        "id": "PJN4Vca1HRMk"
      },
      "execution_count": 64,
      "outputs": []
    },
    {
      "cell_type": "code",
      "source": [
        "x=df.drop('Personal Loan',axis=1)\n",
        "y=df['Personal Loan']\n",
        "\n",
        "sme=SMOTEENN(random_state=42)\n",
        "x_res,y_res=sme.fit_resample(x,y)\n",
        "xtrain,xtest,ytrain,ytest=train_test_split(x_res,y_res,shuffle=True,test_size=0.2,random_state=42)"
      ],
      "metadata": {
        "id": "js6kN92Kv6WS"
      },
      "execution_count": 68,
      "outputs": []
    },
    {
      "cell_type": "code",
      "source": [
        "lg_columns=list(xtrain.columns)\n",
        "joblib.dump(lg_columns, '/content/drive/MyDrive/kaggle/lg_columns.pkl')"
      ],
      "metadata": {
        "colab": {
          "base_uri": "https://localhost:8080/"
        },
        "id": "B7BJEJybRYmy",
        "outputId": "a7ad635f-255c-4c45-c790-53c96d732df7"
      },
      "execution_count": null,
      "outputs": [
        {
          "output_type": "execute_result",
          "data": {
            "text/plain": [
              "['/content/drive/MyDrive/kaggle/lg_columns.pkl']"
            ]
          },
          "metadata": {},
          "execution_count": 34
        }
      ]
    },
    {
      "cell_type": "code",
      "source": [
        "lrgreg=LogisticRegression(solver='lbfgs')\n",
        "lrgreg.fit(xtrain,ytrain)"
      ],
      "metadata": {
        "colab": {
          "base_uri": "https://localhost:8080/"
        },
        "id": "tBDoel1wA5vd",
        "outputId": "bce33e8c-a9ca-4ece-b9bc-be66e0efa41c"
      },
      "execution_count": 39,
      "outputs": [
        {
          "output_type": "execute_result",
          "data": {
            "text/plain": [
              "LogisticRegression()"
            ]
          },
          "metadata": {},
          "execution_count": 39
        }
      ]
    },
    {
      "cell_type": "code",
      "source": [
        "ypred=lrgreg.predict(xtest)"
      ],
      "metadata": {
        "id": "WMRMnVTzweSU"
      },
      "execution_count": 40,
      "outputs": []
    },
    {
      "cell_type": "code",
      "source": [
        "accuracy_score(ytest,ypred)"
      ],
      "metadata": {
        "colab": {
          "base_uri": "https://localhost:8080/"
        },
        "id": "h0fig_dox9PE",
        "outputId": "56d27865-f3f3-43af-bbd4-7606d2711342"
      },
      "execution_count": 41,
      "outputs": [
        {
          "output_type": "execute_result",
          "data": {
            "text/plain": [
              "0.9273140261215219"
            ]
          },
          "metadata": {},
          "execution_count": 41
        }
      ]
    },
    {
      "cell_type": "code",
      "source": [
        "with open ('/content/drive/MyDrive/project/logreg_personal_loan.pkl','wb') as f:\n",
        "  pickle.dump(lrgreg,f)"
      ],
      "metadata": {
        "id": "OD_qeTUjyLI3"
      },
      "execution_count": 42,
      "outputs": []
    },
    {
      "cell_type": "code",
      "source": [
        "!pip install -U ibm-watson-machine-learning"
      ],
      "metadata": {
        "colab": {
          "base_uri": "https://localhost:8080/"
        },
        "id": "-TWujfRxsh6w",
        "outputId": "63484371-1087-4490-b3e5-746638ba6ec6"
      },
      "execution_count": 43,
      "outputs": [
        {
          "output_type": "stream",
          "name": "stdout",
          "text": [
            "Looking in indexes: https://pypi.org/simple, https://us-python.pkg.dev/colab-wheels/public/simple/\n",
            "Requirement already satisfied: ibm-watson-machine-learning in /usr/local/lib/python3.7/dist-packages (1.0.238)\n",
            "Requirement already satisfied: certifi in /usr/local/lib/python3.7/dist-packages (from ibm-watson-machine-learning) (2022.6.15)\n",
            "Requirement already satisfied: importlib-metadata in /usr/local/lib/python3.7/dist-packages (from ibm-watson-machine-learning) (4.12.0)\n",
            "Requirement already satisfied: urllib3 in /usr/local/lib/python3.7/dist-packages (from ibm-watson-machine-learning) (1.24.3)\n",
            "Requirement already satisfied: tabulate in /usr/local/lib/python3.7/dist-packages (from ibm-watson-machine-learning) (0.8.10)\n",
            "Requirement already satisfied: ibm-cos-sdk==2.7.* in /usr/local/lib/python3.7/dist-packages (from ibm-watson-machine-learning) (2.7.0)\n",
            "Requirement already satisfied: requests in /usr/local/lib/python3.7/dist-packages (from ibm-watson-machine-learning) (2.23.0)\n",
            "Requirement already satisfied: pandas<1.4.0,>=0.24.2 in /usr/local/lib/python3.7/dist-packages (from ibm-watson-machine-learning) (1.3.5)\n",
            "Requirement already satisfied: packaging in /usr/local/lib/python3.7/dist-packages (from ibm-watson-machine-learning) (21.3)\n",
            "Requirement already satisfied: lomond in /usr/local/lib/python3.7/dist-packages (from ibm-watson-machine-learning) (0.3.3)\n",
            "Requirement already satisfied: ibm-cos-sdk-core==2.7.0 in /usr/local/lib/python3.7/dist-packages (from ibm-cos-sdk==2.7.*->ibm-watson-machine-learning) (2.7.0)\n",
            "Requirement already satisfied: jmespath<1.0.0,>=0.7.1 in /usr/local/lib/python3.7/dist-packages (from ibm-cos-sdk==2.7.*->ibm-watson-machine-learning) (0.10.0)\n",
            "Requirement already satisfied: ibm-cos-sdk-s3transfer==2.7.0 in /usr/local/lib/python3.7/dist-packages (from ibm-cos-sdk==2.7.*->ibm-watson-machine-learning) (2.7.0)\n",
            "Requirement already satisfied: docutils<0.16,>=0.10 in /usr/local/lib/python3.7/dist-packages (from ibm-cos-sdk-core==2.7.0->ibm-cos-sdk==2.7.*->ibm-watson-machine-learning) (0.15.2)\n",
            "Requirement already satisfied: python-dateutil<3.0.0,>=2.1 in /usr/local/lib/python3.7/dist-packages (from ibm-cos-sdk-core==2.7.0->ibm-cos-sdk==2.7.*->ibm-watson-machine-learning) (2.8.2)\n",
            "Requirement already satisfied: numpy>=1.17.3 in /usr/local/lib/python3.7/dist-packages (from pandas<1.4.0,>=0.24.2->ibm-watson-machine-learning) (1.21.6)\n",
            "Requirement already satisfied: pytz>=2017.3 in /usr/local/lib/python3.7/dist-packages (from pandas<1.4.0,>=0.24.2->ibm-watson-machine-learning) (2022.2.1)\n",
            "Requirement already satisfied: six>=1.5 in /usr/local/lib/python3.7/dist-packages (from python-dateutil<3.0.0,>=2.1->ibm-cos-sdk-core==2.7.0->ibm-cos-sdk==2.7.*->ibm-watson-machine-learning) (1.15.0)\n",
            "Requirement already satisfied: idna<3,>=2.5 in /usr/local/lib/python3.7/dist-packages (from requests->ibm-watson-machine-learning) (2.10)\n",
            "Requirement already satisfied: chardet<4,>=3.0.2 in /usr/local/lib/python3.7/dist-packages (from requests->ibm-watson-machine-learning) (3.0.4)\n",
            "Requirement already satisfied: zipp>=0.5 in /usr/local/lib/python3.7/dist-packages (from importlib-metadata->ibm-watson-machine-learning) (3.8.1)\n",
            "Requirement already satisfied: typing-extensions>=3.6.4 in /usr/local/lib/python3.7/dist-packages (from importlib-metadata->ibm-watson-machine-learning) (4.1.1)\n",
            "Requirement already satisfied: pyparsing!=3.0.5,>=2.0.2 in /usr/local/lib/python3.7/dist-packages (from packaging->ibm-watson-machine-learning) (3.0.9)\n"
          ]
        }
      ]
    },
    {
      "cell_type": "code",
      "source": [
        "from ibm_watson_machine_learning import APIClient\n",
        "import json\n",
        "import numpy as np"
      ],
      "metadata": {
        "id": "cebb7EM_BLk_"
      },
      "execution_count": 44,
      "outputs": []
    },
    {
      "cell_type": "code",
      "source": [
        "vml_credential={\n",
        "    'apikey':'gwUVQsmIWTA2wWdBeU7q-wK4Kdb87qG5Q-bFHZyg5RdD',\n",
        "    'url':\"https://us-south.ml.cloud.ibm.com\"\n",
        "}"
      ],
      "metadata": {
        "id": "nawCaKPGBRk3"
      },
      "execution_count": 48,
      "outputs": []
    },
    {
      "cell_type": "code",
      "source": [
        "wml_client = APIClient(vml_credential)\n",
        "wml_client.spaces.list()"
      ],
      "metadata": {
        "colab": {
          "base_uri": "https://localhost:8080/"
        },
        "id": "3Z-bTRXRChr5",
        "outputId": "cd261b26-d912-4ae6-8dfa-2f65e6733cb0"
      },
      "execution_count": 49,
      "outputs": [
        {
          "output_type": "stream",
          "name": "stdout",
          "text": [
            "Python 3.7 and 3.8 frameworks are deprecated and will be removed in a future release. Use Python 3.9 framework instead.\n",
            "Note: 'limit' is not provided. Only first 50 records will be displayed if the number of records exceed 50\n",
            "------------------------------------  ------------  ------------------------\n",
            "ID                                    NAME          CREATED\n",
            "86d23858-2e24-419f-9290-f652894d2272  Personalloan  2022-09-07T22:09:51.952Z\n",
            "------------------------------------  ------------  ------------------------\n"
          ]
        }
      ]
    },
    {
      "cell_type": "code",
      "source": [
        "space_id='86d23858-2e24-419f-9290-f652894d2272'\n",
        "wml_client.set.default_space(space_id)"
      ],
      "metadata": {
        "colab": {
          "base_uri": "https://localhost:8080/",
          "height": 35
        },
        "id": "812gmlSPCj7Z",
        "outputId": "22961351-6329-43d0-9751-06075fa7a402"
      },
      "execution_count": 50,
      "outputs": [
        {
          "output_type": "execute_result",
          "data": {
            "text/plain": [
              "'SUCCESS'"
            ],
            "application/vnd.google.colaboratory.intrinsic+json": {
              "type": "string"
            }
          },
          "metadata": {},
          "execution_count": 50
        }
      ]
    },
    {
      "cell_type": "code",
      "source": [
        "MODEL_NAME = 'LogisticRegression'\n",
        "DEPLOYMENT_NAME = 'ML Deployment'\n",
        "BEST_MODEL = lrgreg"
      ],
      "metadata": {
        "id": "DT7mKgQHC9lj"
      },
      "execution_count": 51,
      "outputs": []
    },
    {
      "cell_type": "code",
      "source": [
        "xtrain=xtrain.reset_index()\n",
        "xtrain.drop('index',axis=1,inplace=True)"
      ],
      "metadata": {
        "id": "9OqDA8k7D_ko"
      },
      "execution_count": 57,
      "outputs": []
    },
    {
      "cell_type": "code",
      "source": [
        "ytrain=xtrain.reset_index()\n",
        "ytrain.drop('index',axis=1,inplace=True)"
      ],
      "metadata": {
        "id": "CmlQmCgzGQ7X"
      },
      "execution_count": 58,
      "outputs": []
    },
    {
      "cell_type": "code",
      "source": [
        "# Set Python Version\n",
        "software_spec_uid = wml_client.software_specifications.get_id_by_name('runtime-22.1-py3.9')\n",
        "\n",
        "# Setup model meta\n",
        "model_props = {\n",
        "    wml_client.repository.ModelMetaNames.NAME: MODEL_NAME, \n",
        "    wml_client.repository.ModelMetaNames.TYPE: 'scikit-learn_1.0', \n",
        "    wml_client.repository.ModelMetaNames.SOFTWARE_SPEC_UID: software_spec_uid \n",
        "}\n",
        "\n",
        "#Save model\n",
        "model_details = wml_client.repository.store_model(model=BEST_MODEL, meta_props=model_props, training_data=None)\n"
      ],
      "metadata": {
        "id": "ucffqyjND3bj"
      },
      "execution_count": 79,
      "outputs": []
    },
    {
      "cell_type": "code",
      "source": [
        "model_uid = wml_client.repository.get_model_id(model_details)"
      ],
      "metadata": {
        "id": "KVW_nLYrGocj"
      },
      "execution_count": 82,
      "outputs": []
    },
    {
      "cell_type": "code",
      "source": [
        "model_uid"
      ],
      "metadata": {
        "colab": {
          "base_uri": "https://localhost:8080/",
          "height": 35
        },
        "id": "1Hn2LE3qJL0h",
        "outputId": "c056b324-21c2-449e-936b-26959605a123"
      },
      "execution_count": 83,
      "outputs": [
        {
          "output_type": "execute_result",
          "data": {
            "text/plain": [
              "'07a53cb8-5c71-4af4-87c5-29cb5c7dc153'"
            ],
            "application/vnd.google.colaboratory.intrinsic+json": {
              "type": "string"
            }
          },
          "metadata": {},
          "execution_count": 83
        }
      ]
    },
    {
      "cell_type": "code",
      "source": [],
      "metadata": {
        "id": "jcVeBwZ3JNay"
      },
      "execution_count": null,
      "outputs": []
    }
  ]
}